{
 "cells": [
  {
   "cell_type": "markdown",
   "id": "1b69e7a8",
   "metadata": {},
   "source": [
    "### Data loader"
   ]
  },
  {
   "cell_type": "code",
   "execution_count": 2,
   "id": "c7bc1182",
   "metadata": {},
   "outputs": [],
   "source": [
    "import sys\n",
    "import open3d as o3d\n",
    "import torch\n",
    "import pickle as pkl\n",
    "import torch.nn as nn\n",
    "import argparse\n",
    "from PIL import Image\n",
    "import os\n",
    "import numpy as np\n",
    "import pcl\n",
    "\n",
    "#dat_dir = '/home/kulunu/Desktop/ADAPT_Competition/ADAPT_Pose_Estimation/ADAPT_FB2/validation/'\n",
    "#dat_dir = '/home/kulunu/PVN3D/pvn3d/datasets/Adapt/Adapt_dataset'\n",
    "dat_dir = '/home/kulunu/Desktop/ADAPT_Competition/ADAPT_Pose_Estimation_test_split/adapt_fb2_test/test/'\n",
    "mesh_files_path = '/home/kulunu/PVN3D/pvn3d/datasets/Adapt/Adapt_dataset/models'\n",
    "corners_txt_path = '/home/kulunu/PVN3D/pvn3d/datasets/Adapt/Adapt_object_kps/'\n",
    "n_models = 3\n",
    "\n",
    "scene_id_leading_zeros = 6\n",
    "img_id_leading_zeros = 6\n",
    "rgb_format = '.jpg'\n",
    "dpt_format = '.png'\n",
    "cam_scale = 1\n",
    "use_given_K = True\n",
    "\n",
    "\n",
    "class Adapt(object):\n",
    "    \n",
    "    def __init__(self, scene_id):\n",
    "\n",
    "        self.dir = dat_dir + str(scene_id).zfill(scene_id_leading_zeros)\n",
    "        #self.dir = dat_dir\n",
    "        self.rgb_dir = self.dir +'/rgb'  \n",
    "        self.dpt_dir = self.dir+'/depth'    \n",
    "        self.mesh = {}\n",
    "        self.corners = {}\n",
    "\n",
    "        for i in range(1, n_models + 1):\n",
    "                self.mesh[str(i)] = np.array(pcl.load(mesh_files_path+'/obj_'+str(i)+'.pcd'))\n",
    "                self.corners[str(i)] = np.loadtxt(corners_txt_path+str(i)+'/corners.txt')\n",
    "\n",
    "    def __getitem__(self, index):\n",
    "        \n",
    "\n",
    "        with Image.open(os.path.join(self.rgb_dir,str(im_id).zfill(img_id_leading_zeros)+ rgb_format)) as ri:\n",
    "            rgb = np.array(ri)[:, :, :3]\n",
    "        rgb = np.transpose(rgb, (2, 0, 1))\n",
    "        with Image.open(os.path.join(self.dpt_dir,str(im_id).zfill(img_id_leading_zeros)+ dpt_format)) as di:\n",
    "            dpt = np.array(di)\n",
    "            dpt = dpt/65535         \n",
    "            dpt = dpt*30.0  \n",
    "        if use_given_K :\n",
    "                    with open(os.path.join(self.dir,'scene_camera.json'), \"r\") as f:\n",
    "                        mat = json.load(f)\n",
    "                        K = np.array(mat[str(im_id)]['cam_K']).reshape(3,3)\n",
    "        else :\n",
    "             K = np.array([[615.1397026909722, 0.0, 322.78683465719223], [0.0, 615.4323641853988, 244.22407517651774], [0.0, 0.0, 1.0]]) #camera insintric\n",
    "\n",
    "        cld, choose = bs_utils.dpt_2_cld(dpt, cam_scale, K)\n",
    "        rgb_lst = []\n",
    "\n",
    "        for ic in range(rgb.shape[0]):\n",
    "            rgb_lst.append(\n",
    "                rgb[ic].flatten()[choose].astype(np.float32)\n",
    "            )\n",
    "        rgb_pt = np.transpose(np.array(rgb_lst), (1, 0)).copy()\n",
    "        choose = np.array([choose])\n",
    "        choose_2 = np.array([i for i in range(len(choose[0, :]))])\n",
    "\n",
    "        if len(choose_2) < 400:\n",
    "            print(\"Valid points are less than 400\")\n",
    "        if len(choose_2) > config.n_sample_points:\n",
    "            c_mask = np.zeros(len(choose_2), dtype=int)\n",
    "            c_mask[:config.n_sample_points] = 1\n",
    "            np.random.shuffle(c_mask)\n",
    "            choose_2 = choose_2[c_mask.nonzero()]\n",
    "            print(\"Valid points are more than configured\")\n",
    "        else:\n",
    "            leng = len(choose_2)\n",
    "            choose_2 = np.pad(choose_2, (0, config.n_sample_points-len(choose_2)), 'wrap')\n",
    "            print(\"Valid points are optimum\")\n",
    "\n",
    "        cld_rgb = np.concatenate((cld, rgb_pt), axis=1)\n",
    "        cld_rgb = cld_rgb[choose_2, :]\n",
    "        cld = cld[choose_2, :]\n",
    "        normal = bs_utils.get_normal(cld)[:, :3]\n",
    "        normal[np.isnan(normal)] = 0.0\n",
    "        cld_rgb_nrm = np.concatenate((cld_rgb, normal), axis=1)\n",
    "        choose = choose[:, choose_2]\n",
    "        self.data_torch = [torch.from_numpy(rgb[np.newaxis, ...].astype(np.float32)), torch.from_numpy(cld_rgb_nrm[np.newaxis, ...].astype(np.float32)),torch.LongTensor(choose[np.newaxis, ...].astype(np.int32))]\n",
    "\n",
    "        return data_torch\n"
   ]
  },
  {
   "cell_type": "markdown",
   "id": "0cc29cd8",
   "metadata": {},
   "source": [
    "### Data_torch ==> Model"
   ]
  },
  {
   "cell_type": "code",
   "execution_count": null,
   "id": "d7071154",
   "metadata": {},
   "outputs": [],
   "source": []
  },
  {
   "cell_type": "markdown",
   "id": "dfe5fb49",
   "metadata": {},
   "source": [
    " \n",
    " "
   ]
  },
  {
   "cell_type": "code",
   "execution_count": null,
   "id": "51c3bd48",
   "metadata": {},
   "outputs": [],
   "source": []
  }
 ],
 "metadata": {
  "kernelspec": {
   "display_name": "pvn3d",
   "language": "python",
   "name": "pvn3d"
  },
  "language_info": {
   "codemirror_mode": {
    "name": "ipython",
    "version": 3
   },
   "file_extension": ".py",
   "mimetype": "text/x-python",
   "name": "python",
   "nbconvert_exporter": "python",
   "pygments_lexer": "ipython3",
   "version": "3.6.15"
  }
 },
 "nbformat": 4,
 "nbformat_minor": 5
}
