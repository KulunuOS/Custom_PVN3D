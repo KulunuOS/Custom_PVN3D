{
 "cells": [
  {
   "cell_type": "markdown",
   "id": "bc32e62d",
   "metadata": {},
   "source": [
    "## Demystifiying PVN3D dataloader"
   ]
  },
  {
   "cell_type": "code",
   "execution_count": 1,
   "id": "63e9613e",
   "metadata": {},
   "outputs": [],
   "source": [
    "import numpy as np\n",
    "from PIL import Image\n",
    "import cv2\n",
    "from cv2 import imshow\n",
    "from matplotlib import pyplot as plt\n",
    "import pcl"
   ]
  },
  {
   "cell_type": "code",
   "execution_count": 14,
   "id": "8bdaadd0",
   "metadata": {},
   "outputs": [
    {
     "data": {
      "image/png": "[encoded data removed]",
      "text/plain": [
       "<Figure size 432x288 with 2 Axes>"
      ]
     },
     "metadata": {
      "needs_background": "light"
     },
     "output_type": "display_data"
    }
   ],
   "source": [
    "# Load images and display\n",
    "with Image.open('depth/1.png') as dpt_im:\n",
    "    dpt = np.array(dpt_im)\n",
    "    dpt = dpt/65535\t\t\t\t#Scaling down between 0 - 3m\n",
    "    dpt = dpt*3.0\n",
    "\n",
    "\n",
    "with Image.open('rgb/1.png') as rgb_im:\n",
    "    rgb = np.array(rgb_im)\n",
    "    image = rgb\n",
    "\n",
    "fig = plt.figure()\n",
    "ax1 = fig.add_subplot(1, 2, 1)\n",
    "plt.imshow(rgb)\n",
    "ax2 = fig.add_subplot(1, 2, 2)\n",
    "plt.imshow(dpt, cmap='Greys')\n",
    "plt.show()"
   ]
  },
  {
   "cell_type": "markdown",
   "id": "698f250c",
   "metadata": {},
   "source": [
    "### K - Insintric Matrix \n",
    "\n",
    "\n",
    "### Xmap and Ymap\n",
    "\n",
    "xmap and ymap are 2 dimensional arrays of shape 640 x 480 (same size as input images). xmap contains only the x-indices and ymap contains only the y-indices of the input image\n",
    "\n",
    "![xmap](xmap.png)\n",
    "![ymap](ymap.png)"
   ]
  },
  {
   "cell_type": "code",
   "execution_count": 3,
   "id": "6f368e48",
   "metadata": {},
   "outputs": [],
   "source": [
    "K = np.array([[554.25469119, 0.,         320.5],\n",
    "              [0.,        554.25469119,  240.5],\n",
    "              [0.,        0.,         1.]])\n",
    "\n",
    "xmap = np.array([[j for i in range(640)] for j in range(480)])\n",
    "ymap = np.array([[i for i in range(640)] for j in range(480)])"
   ]
  },
  {
   "cell_type": "markdown",
   "id": "0e7b02d0",
   "metadata": {},
   "source": [
    "### choose \n",
    "A 1-dimesional array of containing indexes of all valid points in depth Image. If all the points in depth image are valid then there are 307200 points in a (680 x 480) image.\n",
    "\n",
    "\n",
    "### cld = pointcloud\n",
    "A pointcloud is a 2 dimensional array of shape (307200 x 3). They specify the XYZ coordinate for each valid depth point\n",
    "\n",
    "\n"
   ]
  },
  {
   "cell_type": "code",
   "execution_count": 4,
   "id": "6a790cdf",
   "metadata": {},
   "outputs": [
    {
     "name": "stdout",
     "output_type": "stream",
     "text": [
      "(307200, 3)\n",
      "[[-0.23180455 -0.17394382  0.40086976]\n",
      " [-0.23108128 -0.17394382  0.40086976]\n",
      " [-0.23035802 -0.17394382  0.40086976]\n",
      " ...\n",
      " [ 0.05418906  0.04083441  0.09489585]\n",
      " [ 0.05436027  0.04083441  0.09489585]\n",
      " [ 0.05453148  0.04083441  0.09489585]]\n",
      "(307200,)\n",
      "[     0      1      2 ... 307197 307198 307199]\n"
     ]
    }
   ],
   "source": [
    "def dpt_2_cld(xmap,ymap,dpt, K,cam_scale=1):\n",
    "\n",
    "    if len(dpt.shape) > 2:\n",
    "        dpt = dpt[:, :, 0]\n",
    "    msk_dp = dpt > 1e-6\n",
    "    choose = msk_dp.flatten().nonzero()[0].astype(np.uint32)\n",
    "    if len(choose) < 1:\n",
    "        return None, None\n",
    "\n",
    "    dpt_mskd = dpt.flatten()[choose][:, np.newaxis].astype(np.float32)\n",
    "    xmap_mskd = xmap.flatten()[choose][:, np.newaxis].astype(np.float32)\n",
    "    ymap_mskd = ymap.flatten()[choose][:, np.newaxis].astype(np.float32)\n",
    "\n",
    "    pt2 = dpt_mskd / cam_scale\n",
    "    cam_cx, cam_cy = K[0][2], K[1][2]\n",
    "    cam_fx, cam_fy = K[0][0], K[1][1]\n",
    "    pt0 = (ymap_mskd - cam_cx) * pt2 / cam_fx\n",
    "    pt1 = (xmap_mskd - cam_cy) * pt2 / cam_fy\n",
    "    cld = np.concatenate((pt0, pt1, pt2),axis=1)\n",
    "    \n",
    "    return cld, choose\n",
    "\n",
    "cld,choose = dpt_2_cld(xmap,ymap,dpt, K,cam_scale=1)\n",
    "print(np.shape(cld))\n",
    "print(cld)\n",
    "print(np.shape(choose))\n",
    "print(choose)"
   ]
  },
  {
   "cell_type": "markdown",
   "id": "bb2a4645",
   "metadata": {},
   "source": [
    "### rgb_pt  \n",
    "rgb_pt contains the valid rgb points. These are the corresponding rgb values to valid depth points(choose). But its reshaped to a 2 dimensional array of size (307200, 3)\n",
    "\n",
    "\n",
    "### choose_2\n",
    "choose_2 is a 1-dimennsional array containing indexes of the array choose. They are equal in length. But if the length is longer than 12288, choose_2 will contain random 12288 indexes from choose. And the lengths are not equal anymore."
   ]
  },
  {
   "cell_type": "code",
   "execution_count": 5,
   "id": "1acf0f47",
   "metadata": {},
   "outputs": [
    {
     "name": "stdout",
     "output_type": "stream",
     "text": [
      "3\n",
      "rgb_list (3, 307200)\n",
      "rgb_pt (307200, 3)\n",
      "choose_now [     0      1      2 ... 307197 307198 307199]\n",
      "choose_2 [     0      1      2 ... 307197 307198 307199]\n",
      "choose_2 (307200,)\n",
      "Valid points are more than configured\n"
     ]
    }
   ],
   "source": [
    "n_sample_points = 12288\n",
    "\n",
    "rgb_lst = []\n",
    "# rgb ==> channel x length x Height\n",
    "rgb = np.transpose(rgb, (2, 0, 1))\n",
    "print(rgb.shape[0])\n",
    "\n",
    "for ic in range(rgb.shape[0]):\n",
    "    rgb_lst.append(\n",
    "        rgb[ic].flatten()[choose].astype(np.float32)\n",
    "    )\n",
    "\n",
    "# rgb_list ==> channels x rgbf.flat[choose]    \n",
    "print('rgb_list', np.shape(rgb_lst))\n",
    "\n",
    "\n",
    "rgb_pt = np.transpose(np.array(rgb_lst), (1, 0)).copy()\n",
    "print('rgb_pt', np.shape(rgb_pt))\n",
    "\n",
    "print('choose_now', choose)\n",
    "choose = np.array([choose])\n",
    "choose_2 = np.array([i for i in range(len(choose[0, :]))])\n",
    "print('choose_2', choose_2)\n",
    "print('choose_2', np.shape(choose_2))\n",
    "\n",
    "if len(choose_2) < 400:\n",
    "    print(\"Valid points are less than 400\")\n",
    "    \n",
    "\n",
    "if len(choose_2) > n_sample_points:\n",
    "    c_mask = np.zeros(len(choose_2), dtype=int)\n",
    "    c_mask[:n_sample_points] = 1\n",
    "    np.random.shuffle(c_mask)\n",
    "    choose_2 = choose_2[c_mask.nonzero()]\n",
    "    print(\"Valid points are more than configured\")\n",
    "    \n",
    "else:\n",
    "    leng = len(choose_2)\n",
    "    choose_2 = np.pad(choose_2, (0, n_sample_points-len(choose_2)), 'wrap')\n",
    "    print(\"Valid points are optimum\")"
   ]
  },
  {
   "cell_type": "markdown",
   "id": "2f3abe7a",
   "metadata": {},
   "source": [
    "### cld_rgb, cld_2, normal, cld_rgb_nrm , choose\n",
    "\n",
    "cld_rgb is cld(choose x3)and rgb_pt (choose x 3) stacked vertically?? NO!!.\n",
    "\n",
    "incorrect details>.\n",
    "It is a 2 dimensional array of shape (choose x 6). Then cld_rgb is again refined to contain random 12288 points. cld_rgb (12288 x 6 ). For each of the cld normals are calculated and stacked horizontally again. resulting a cld_rgb_norm, a 2 dimensionala array of shape (12288, 9)"
   ]
  },
  {
   "cell_type": "code",
   "execution_count": 6,
   "id": "645f79e2",
   "metadata": {},
   "outputs": [
    {
     "name": "stdout",
     "output_type": "stream",
     "text": [
      "cld_rgb : (307200, 6)\n",
      "cld_rgb : (12288, 6)\n",
      "normal (12288, 3)\n",
      "cld_rgb_nrm : (12288, 9)\n",
      "choose (1, 12288)\n"
     ]
    }
   ],
   "source": [
    "cld_rgb = np.concatenate((cld, rgb_pt), axis=1)\n",
    "print('cld_rgb :', np.shape(cld_rgb))\n",
    "\n",
    "cld_rgb = cld_rgb[choose_2, :]\n",
    "print('cld_rgb :', np.shape(cld_rgb))\n",
    "\n",
    "cld = cld[choose_2, :]\n",
    "\n",
    "\n",
    "def get_normal( cld):\n",
    "        cloud = pcl.PointCloud()\n",
    "        cld = cld.astype(np.float32)\n",
    "        cloud.from_array(cld)\n",
    "        ne = cloud.make_NormalEstimation()\n",
    "        kdtree = cloud.make_kdtree()\n",
    "        ne.set_SearchMethod(kdtree)\n",
    "        ne.set_KSearch(50)\n",
    "        n = ne.compute()\n",
    "        n = n.to_array()\n",
    "        return n\n",
    "\n",
    "normal = get_normal(cld)[:, :3]\n",
    "normal[np.isnan(normal)] = 0.0\n",
    "print('normal', np.shape(normal))\n",
    "\n",
    "cld_rgb_nrm = np.concatenate((cld_rgb, normal), axis=1)\n",
    "\n",
    "print('cld_rgb_nrm :',np.shape(cld_rgb_nrm))\n",
    "choose = choose[:, choose_2]\n",
    "print('choose', np.shape(choose))"
   ]
  },
  {
   "cell_type": "markdown",
   "id": "729f3be7",
   "metadata": {},
   "source": [
    "### Draw projected pointcloud"
   ]
  },
  {
   "cell_type": "code",
   "execution_count": 15,
   "id": "b3ea80bb",
   "metadata": {},
   "outputs": [
    {
     "name": "stdout",
     "output_type": "stream",
     "text": [
      "(12288, 2)\n",
      "480 640\n",
      "(480, 640, 3)\n",
      "uint8\n"
     ]
    },
    {
     "data": {
      "text/plain": [
       "<matplotlib.image.AxesImage at 0x7f28a0635550>"
      ]
     },
     "execution_count": 15,
     "metadata": {},
     "output_type": "execute_result"
    },
    {
     "data": {
      "image/png": "[encoded data removed]",
      "text/plain": [
       "<Figure size 432x288 with 1 Axes>"
      ]
     },
     "metadata": {
      "needs_background": "light"
     },
     "output_type": "display_data"
    }
   ],
   "source": [
    "# Projects a 3D pointcloud to 2D (x,y,z -----> X,Y)\n",
    "def project_p3d( p3d,K,cam_scale=1):\n",
    "    \n",
    "    if p3d.shape[1]<4:\n",
    "        p3d = p3d * cam_scale\n",
    "        p2d = np.dot(p3d, K.T)\n",
    "        p2d_3 = p2d[:, 2]\n",
    "        p2d_3[np.where(p2d_3 < 1e-8)] = 1.0\n",
    "        p2d[:, 2] = p2d_3\n",
    "        p2d = np.around((p2d[:, :2] / p2d[:, 2:])).astype(np.int32)\n",
    "        return p2d\n",
    "\n",
    "    else:\n",
    "        p3d = p3d * cam_scale\n",
    "        #print(p3d.shape)\n",
    "        print('xyz_rgb points projected to 2D')\n",
    "        p2d = np.dot(p3d[: , 0:3], K.T)\n",
    "        p2d_3 = p2d[:, 2]\n",
    "        filter = np.where(p2d_3 < 1e-8)\n",
    "        if filter[0].shape[0]>0:\n",
    "            p2d_rgbs = p3d[filter, 3:6]\n",
    "            p2d_3[filter] = 1.0\n",
    "        else:\n",
    "            p2d_rgbs = p3d[:, 3:6]\n",
    "        p2d[:, 2] = p2d_3\n",
    "        p2d = np.around((p2d[:, :2] / p2d[:, 2:])).astype(np.int32)\n",
    "        #print(p3d.shape)\n",
    "        #print(p2d.shape)\n",
    "        return np.concatenate((p2d, p2d_rgbs), axis=1).astype(np.int32)\n",
    "\n",
    "def draw_p2ds(img, p2ds, color =(255,0,0), rad = 1 ):\n",
    "    h, w = img.shape[0], img.shape[1]\n",
    "    for pt_2d in p2ds:\n",
    "        pt_2d[0] = np.clip(pt_2d[0], 0, w)\n",
    "        pt_2d[1] = np.clip(pt_2d[1], 0, h)\n",
    "\n",
    "        if p2ds.shape[1]>2:\n",
    "                img = cv2.circle(\n",
    "                    cv2.UMat(img), (pt_2d[0], pt_2d[1]), rad, (int(pt_2d[2]), int(pt_2d[3]), int(pt_2d[4])) , -1\n",
    "                )\n",
    "        else:\n",
    "            img = cv2.circle(cv2.UMat(img), (pt_2d[0], pt_2d[1]), rad, color, -1)\n",
    "        \"\"\"\n",
    "        img = cv2.circle(\n",
    "            img, (pt_2d[0], pt_2d[1]), rad, color, -1\n",
    "        )\n",
    "        \"\"\"\n",
    "    return img\n",
    "\n",
    "# lines to get result\n",
    "\n",
    "p2ds = project_p3d(cld, K)\n",
    "print(np.shape(p2ds))\n",
    "print(rgb.shape[0],rgb.shape[1])\n",
    "img = draw_p2ds(image,p2ds)\n",
    "image = img.get()\n",
    "print(np.shape(image))\n",
    "print(image.dtype)\n",
    "plt.imshow(image)\n"
   ]
  },
  {
   "cell_type": "markdown",
   "id": "e0c47915",
   "metadata": {},
   "source": [
    "# Data ==> Data_torch"
   ]
  },
  {
   "cell_type": "code",
   "execution_count": null,
   "id": "1a14e9e3",
   "metadata": {},
   "outputs": [],
   "source": []
  }
 ],
 "metadata": {
  "kernelspec": {
   "display_name": "pvn3d",
   "language": "python",
   "name": "pvn3d"
  },
  "language_info": {
   "codemirror_mode": {
    "name": "ipython",
    "version": 3
   },
   "file_extension": ".py",
   "mimetype": "text/x-python",
   "name": "python",
   "nbconvert_exporter": "python",
   "pygments_lexer": "ipython3",
   "version": "3.6.15"
  }
 },
 "nbformat": 4,
 "nbformat_minor": 5
}
